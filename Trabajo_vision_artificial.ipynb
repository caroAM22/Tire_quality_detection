{
  "nbformat": 4,
  "nbformat_minor": 0,
  "metadata": {
    "colab": {
      "provenance": [],
      "include_colab_link": true
    },
    "kernelspec": {
      "name": "python3",
      "display_name": "Python 3"
    },
    "language_info": {
      "name": "python"
    }
  },
  "cells": [
    {
      "cell_type": "markdown",
      "metadata": {
        "id": "view-in-github",
        "colab_type": "text"
      },
      "source": [
        "<a href=\"https://colab.research.google.com/github/caroAM22/Trabajo_VA/blob/main/Trabajo_vision_artificial.ipynb\" target=\"_parent\"><img src=\"https://colab.research.google.com/assets/colab-badge.svg\" alt=\"Open In Colab\"/></a>"
      ]
    },
    {
      "cell_type": "markdown",
      "source": [
        "**<h1><center>Trabajo Final Visión Artificial </center></h1>**\n",
        "\n",
        "**<h1><center> 2023-2s </center></h1>**\n",
        "---\n",
        "\n",
        "\n",
        "---\n",
        "\n",
        "\n",
        "# Programa para detectar la calidad de los neumaticos\n",
        "\n",
        "---\n",
        "\n",
        "\n",
        "## Integrantes:\n",
        "\n",
        "*   Carolina Alvarez Murillo\n",
        "*   Mateo Alvarez Murillo\n",
        "*   Cristian Londoño Franco\n",
        "*   Miguel Angel Martinez Arenas\n",
        "\n"
      ],
      "metadata": {
        "id": "_4pCrFMGKnwy"
      }
    },
    {
      "cell_type": "markdown",
      "source": [
        "Desarrollaremos el programa para el reconocimiento de neumaticos defectuosos con el dataset [Tyre Quality Classification](https://www.kaggle.com/datasets/warcoder/tyre-quality-classification) obtenido de [Kaggle](https://www.kaggle.com/) el cual esta compuesto por 1028 imágenes clasificadas como defectuosas y 828 como buenas."
      ],
      "metadata": {
        "id": "pzeEKtNWLRzx"
      }
    },
    {
      "cell_type": "markdown",
      "source": [
        "## Librerías"
      ],
      "metadata": {
        "id": "_1RlfS3lMy1W"
      }
    },
    {
      "cell_type": "code",
      "execution_count": 1,
      "metadata": {
        "id": "eM7PUABCIEzE"
      },
      "outputs": [],
      "source": [
        "import pandas as pd\n",
        "import numpy as np\n",
        "import cv2"
      ]
    },
    {
      "cell_type": "code",
      "source": [
        "print(\"Prueba con github\")"
      ],
      "metadata": {
        "id": "r92-DO9pk1w0",
        "outputId": "47f41a12-78f2-4d0a-a028-7488cf129e59",
        "colab": {
          "base_uri": "https://localhost:8080/"
        }
      },
      "execution_count": 2,
      "outputs": [
        {
          "output_type": "stream",
          "name": "stdout",
          "text": [
            "Prueba con github\n"
          ]
        }
      ]
    }
  ]
}